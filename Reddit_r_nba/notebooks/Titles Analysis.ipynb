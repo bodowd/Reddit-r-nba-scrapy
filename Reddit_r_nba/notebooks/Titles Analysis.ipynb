{
 "cells": [
  {
   "cell_type": "markdown",
   "metadata": {},
   "source": [
    "# Read in data and begin cleaning"
   ]
  },
  {
   "cell_type": "code",
   "execution_count": 1,
   "metadata": {
    "collapsed": false
   },
   "outputs": [
    {
     "name": "stdout",
     "output_type": "stream",
     "text": [
      "1335\n",
      "1823\n"
     ]
    },
    {
     "data": {
      "text/html": [
       "<div>\n",
       "<table border=\"1\" class=\"dataframe\">\n",
       "  <thead>\n",
       "    <tr style=\"text-align: right;\">\n",
       "      <th></th>\n",
       "      <th>score_unvoted_numbers</th>\n",
       "      <th>author</th>\n",
       "      <th>number_of_comments</th>\n",
       "      <th>score_likes_numbers</th>\n",
       "      <th>time_submitted_ago</th>\n",
       "      <th>score_dislikes_numbers</th>\n",
       "      <th>title</th>\n",
       "    </tr>\n",
       "  </thead>\n",
       "  <tbody>\n",
       "    <tr>\n",
       "      <th>0</th>\n",
       "      <td>33</td>\n",
       "      <td>nymusix</td>\n",
       "      <td>57 comments</td>\n",
       "      <td>34</td>\n",
       "      <td>7 hours ago</td>\n",
       "      <td>32</td>\n",
       "      <td>[The Comeback] The NBA and its fans are now th...</td>\n",
       "    </tr>\n",
       "  </tbody>\n",
       "</table>\n",
       "</div>"
      ],
      "text/plain": [
       "  score_unvoted_numbers   author number_of_comments score_likes_numbers  \\\n",
       "0                    33  nymusix        57 comments                  34   \n",
       "\n",
       "  time_submitted_ago score_dislikes_numbers  \\\n",
       "0        7 hours ago                     32   \n",
       "\n",
       "                                               title  \n",
       "0  [The Comeback] The NBA and its fans are now th...  "
      ]
     },
     "execution_count": 1,
     "metadata": {},
     "output_type": "execute_result"
    }
   ],
   "source": [
    "import seaborn as sns\n",
    "import matplotlib.pyplot as plt\n",
    "import pandas as pd\n",
    "%matplotlib inline\n",
    "\n",
    "plt.style.use('ggplot')\n",
    "\n",
    "\n",
    "\n",
    "df1 = pd.read_csv(\"~/Documents/DS/Scrapy/Reddit-r-nba-scrapy/Reddit_r_nba/data/export.csv\", header=0)\n",
    "\n",
    "# drop duplicates where titles are the same\n",
    "df2 = df1.copy()\n",
    "df2 = df2.drop_duplicates(subset = 'title')\n",
    "\n",
    "# check lengths to make sure duplicate titles are dropped\n",
    "print(len(df2))\n",
    "print(len(df1))\n",
    "\n",
    "df2.head(1)"
   ]
  },
  {
   "cell_type": "markdown",
   "metadata": {},
   "source": [
    "## Clean comments, and convert numbers from strings to floats"
   ]
  },
  {
   "cell_type": "code",
   "execution_count": 2,
   "metadata": {
    "collapsed": false
   },
   "outputs": [
    {
     "name": "stdout",
     "output_type": "stream",
     "text": [
      "<class 'numpy.float64'>\n",
      "<class 'numpy.float64'>\n",
      "<class 'numpy.float64'>\n",
      "<class 'numpy.float64'>\n"
     ]
    }
   ],
   "source": [
    "# remove 'comments' from number_of_comments\n",
    "df2['number_of_comments'] = df2.number_of_comments.str.rstrip('comments')\n",
    "\n",
    "# convert strings to floats\n",
    "list_to_change = ['number_of_comments'\n",
    ",'score_dislikes_numbers'\n",
    ",'score_likes_numbers'\n",
    ",'score_unvoted_numbers']\n",
    "\n",
    "for col in list_to_change:  \n",
    "    df2[col] = pd.to_numeric(df2[col], errors='coerce')\n",
    "    # confirm type is converted\n",
    "    print(type(df2[col][0]))\n"
   ]
  },
  {
   "cell_type": "markdown",
   "metadata": {},
   "source": [
    "### Clean up words in title, remove stopwords"
   ]
  },
  {
   "cell_type": "code",
   "execution_count": 3,
   "metadata": {
    "collapsed": true
   },
   "outputs": [],
   "source": [
    "import re\n",
    "import nltk\n",
    "from nltk.corpus import stopwords\n",
    "\n",
    "def to_words(content):\n",
    "    letters_only = re.sub(\"[^a-zA-Z]\", \" \", content) \n",
    "    words = letters_only.lower().split()                             \n",
    "    stops = set(stopwords.words(\"english\"))                  \n",
    "    meaningful_words = [w for w in words if not w in stops] \n",
    "    return( \" \".join( meaningful_words )) "
   ]
  },
  {
   "cell_type": "code",
   "execution_count": 4,
   "metadata": {
    "collapsed": true
   },
   "outputs": [],
   "source": [
    "clean_title=[]\n",
    "for title in df2['title']:\n",
    "    clean_title.append(to_words(title))"
   ]
  },
  {
   "cell_type": "code",
   "execution_count": 5,
   "metadata": {
    "collapsed": false,
    "scrolled": true
   },
   "outputs": [
    {
     "data": {
      "text/plain": [
       "['comeback nba fans progressive major sports',\n",
       " 'josh howard calls career moves coaching hometown college team',\n",
       " 'james harden full highlights vs nuggets pts',\n",
       " 'report rockets retire yao ming jersey',\n",
       " 'curry golfing potus',\n",
       " 'joe johnson hall fame',\n",
       " 'scottie pippen ultimate defender',\n",
       " 'shaq vs chuck mma compilation',\n",
       " 'paul pierce passes larry bird time celtics scoring list gets nice ovation garden',\n",
       " 'brian scalabrine showing modesty',\n",
       " 'unpopular opinion team next season',\n",
       " 'records think broken set nba season',\n",
       " 'okc james harden posterizes jj hickson',\n",
       " 'david robinson highlights',\n",
       " 'al jefferson says take pay cut remain charlotte hornets',\n",
       " 'synergy sports tech twitter quick look pgs finishing rim',\n",
       " 'eastern european stories',\n",
       " 'shaq cries fine',\n",
       " 'reinsdorf let noah walk frontline guy',\n",
       " 'sources duke barring nba teams practices holding pro days first time']"
      ]
     },
     "execution_count": 5,
     "metadata": {},
     "output_type": "execute_result"
    }
   ],
   "source": [
    "clean_title[:20]"
   ]
  },
  {
   "cell_type": "code",
   "execution_count": 6,
   "metadata": {
    "collapsed": false
   },
   "outputs": [],
   "source": [
    "# append cleaned titles to df2 and drop the old title\n",
    "df2['clean_title'] = clean_title\n",
    "df2.drop('title', axis =1, inplace=True)"
   ]
  },
  {
   "cell_type": "code",
   "execution_count": 7,
   "metadata": {
    "collapsed": false
   },
   "outputs": [
    {
     "data": {
      "text/html": [
       "<div>\n",
       "<table border=\"1\" class=\"dataframe\">\n",
       "  <thead>\n",
       "    <tr style=\"text-align: right;\">\n",
       "      <th></th>\n",
       "      <th>score_unvoted_numbers</th>\n",
       "      <th>author</th>\n",
       "      <th>number_of_comments</th>\n",
       "      <th>score_likes_numbers</th>\n",
       "      <th>time_submitted_ago</th>\n",
       "      <th>score_dislikes_numbers</th>\n",
       "      <th>clean_title</th>\n",
       "    </tr>\n",
       "  </thead>\n",
       "  <tbody>\n",
       "    <tr>\n",
       "      <th>0</th>\n",
       "      <td>33.0</td>\n",
       "      <td>nymusix</td>\n",
       "      <td>57.0</td>\n",
       "      <td>34.0</td>\n",
       "      <td>7 hours ago</td>\n",
       "      <td>32.0</td>\n",
       "      <td>comeback nba fans progressive major sports</td>\n",
       "    </tr>\n",
       "    <tr>\n",
       "      <th>1</th>\n",
       "      <td>22.0</td>\n",
       "      <td>WizOfAwesSite</td>\n",
       "      <td>13.0</td>\n",
       "      <td>23.0</td>\n",
       "      <td>5 hours ago</td>\n",
       "      <td>21.0</td>\n",
       "      <td>josh howard calls career moves coaching hometo...</td>\n",
       "    </tr>\n",
       "    <tr>\n",
       "      <th>2</th>\n",
       "      <td>27.0</td>\n",
       "      <td>GettingLostInDaSauce</td>\n",
       "      <td>10.0</td>\n",
       "      <td>28.0</td>\n",
       "      <td>6 hours ago</td>\n",
       "      <td>26.0</td>\n",
       "      <td>james harden full highlights vs nuggets pts</td>\n",
       "    </tr>\n",
       "  </tbody>\n",
       "</table>\n",
       "</div>"
      ],
      "text/plain": [
       "   score_unvoted_numbers                author  number_of_comments  \\\n",
       "0                   33.0               nymusix                57.0   \n",
       "1                   22.0         WizOfAwesSite                13.0   \n",
       "2                   27.0  GettingLostInDaSauce                10.0   \n",
       "\n",
       "   score_likes_numbers time_submitted_ago  score_dislikes_numbers  \\\n",
       "0                 34.0        7 hours ago                    32.0   \n",
       "1                 23.0        5 hours ago                    21.0   \n",
       "2                 28.0        6 hours ago                    26.0   \n",
       "\n",
       "                                         clean_title  \n",
       "0         comeback nba fans progressive major sports  \n",
       "1  josh howard calls career moves coaching hometo...  \n",
       "2        james harden full highlights vs nuggets pts  "
      ]
     },
     "execution_count": 7,
     "metadata": {},
     "output_type": "execute_result"
    }
   ],
   "source": [
    "df2[:3]"
   ]
  },
  {
   "cell_type": "code",
   "execution_count": 8,
   "metadata": {
    "collapsed": false
   },
   "outputs": [],
   "source": [
    "# Create new data frame with numbers and clean title\n",
    "df_titles_w_numbers = df2[['score_dislikes_numbers', 'score_likes_numbers', 'score_unvoted_numbers', 'number_of_comments', 'clean_title']].copy()\n",
    "\n",
    "# Select titles with certain number of comments\n",
    "# df_titles_w_numbers[df_titles_w_numbers['number_of_comments']\n"
   ]
  },
  {
   "cell_type": "markdown",
   "metadata": {},
   "source": [
    "## Distribution of comments"
   ]
  },
  {
   "cell_type": "code",
   "execution_count": 10,
   "metadata": {
    "collapsed": false
   },
   "outputs": [
    {
     "data": {
      "text/plain": [
       "[<matplotlib.text.Text at 0x11e1fab70>, <matplotlib.text.Text at 0x11e1f2320>]"
      ]
     },
     "execution_count": 10,
     "metadata": {},
     "output_type": "execute_result"
    },
    {
     "data": {
      "image/png": "[encoded data removed]",
      "text/plain": [
       "<matplotlib.figure.Figure at 0x11e1df9e8>"
      ]
     },
     "metadata": {},
     "output_type": "display_data"
    }
   ],
   "source": [
    "more_than_100_comments = df_titles_w_numbers[df_titles_w_numbers.number_of_comments > 100]\n",
    "\n",
    "fifty_to_100_comments = df_titles_w_numbers[(df_titles_w_numbers.number_of_comments < 100) \n",
    "                                            & (df_titles_w_numbers.number_of_comments >=50)]\n",
    "\n",
    "twenty_to_fifty_comments = df_titles_w_numbers[(df_titles_w_numbers.number_of_comments < 50) \n",
    "                                               & (df_titles_w_numbers.number_of_comments >=20)]\n",
    "\n",
    "less_than_twenty_comments = df_titles_w_numbers[(df_titles_w_numbers.number_of_comments < 20)]\n",
    "\n",
    "\n",
    "\n",
    "x = ['<20', '20 to 50', '50 to 100', '>100']\n",
    "y = [len(less_than_twenty_comments), len(twenty_to_fifty_comments), len(fifty_to_100_comments), len(more_than_100_comments)]\n",
    "ax = sns.barplot(x,y)\n",
    "ax.set(xlabel = 'Number of Comments', ylabel= 'Counts')\n",
    "\n"
   ]
  },
  {
   "cell_type": "markdown",
   "metadata": {},
   "source": [
    "## Frequency of words "
   ]
  },
  {
   "cell_type": "code",
   "execution_count": 11,
   "metadata": {
    "collapsed": true
   },
   "outputs": [],
   "source": [
    "# Returns how many times a word appears in titles\n",
    "\n",
    "def freq_of_words(df):\n",
    "\n",
    "    # looks at each title in clean_title in data frame\n",
    "    # and adds each word to the counter\n",
    "    word_counter = []\n",
    "    for title in df.clean_title:\n",
    "        words = title.split()\n",
    "        for i in words:\n",
    "            word_counter.append(i)\n",
    " \n",
    "    # appends words to a new data frame\n",
    "    # counts how many times a word appears\n",
    "    # and returns it as a data frame\n",
    "    df_words = pd.DataFrame(word_counter)\n",
    "    df_words.columns = ['appearances']\n",
    "    return pd.DataFrame(df_words['appearances'].value_counts())\n",
    "\n"
   ]
  },
  {
   "cell_type": "code",
   "execution_count": 98,
   "metadata": {
    "collapsed": false
   },
   "outputs": [
    {
     "data": {
      "text/html": [
       "<div>\n",
       "<table border=\"1\" class=\"dataframe\">\n",
       "  <thead>\n",
       "    <tr style=\"text-align: right;\">\n",
       "      <th></th>\n",
       "      <th>appearances</th>\n",
       "    </tr>\n",
       "  </thead>\n",
       "  <tbody>\n",
       "    <tr>\n",
       "      <th>nba</th>\n",
       "      <td>51</td>\n",
       "    </tr>\n",
       "    <tr>\n",
       "      <th>game</th>\n",
       "      <td>33</td>\n",
       "    </tr>\n",
       "    <tr>\n",
       "      <th>would</th>\n",
       "      <td>28</td>\n",
       "    </tr>\n",
       "    <tr>\n",
       "      <th>team</th>\n",
       "      <td>26</td>\n",
       "    </tr>\n",
       "    <tr>\n",
       "      <th>season</th>\n",
       "      <td>25</td>\n",
       "    </tr>\n",
       "  </tbody>\n",
       "</table>\n",
       "</div>"
      ],
      "text/plain": [
       "        appearances\n",
       "nba              51\n",
       "game             33\n",
       "would            28\n",
       "team             26\n",
       "season           25"
      ]
     },
     "execution_count": 98,
     "metadata": {},
     "output_type": "execute_result"
    }
   ],
   "source": [
    "df_100 = pd.DataFrame(freq_of_words(more_than_100_comments))\n",
    "df_100[:5]\n",
    "df_50_100 = pd.DataFrame(freq_of_words(fifty_to_100_comments))\n",
    "df_50_100[:5]\n",
    "df_20_50 = pd.DataFrame(freq_of_words(twenty_to_fifty_comments))\n",
    "df_20_50[:5]"
   ]
  },
  {
   "cell_type": "code",
   "execution_count": 44,
   "metadata": {
    "collapsed": false
   },
   "outputs": [
    {
     "data": {
      "text/plain": [
       "Index(['nba', 'team', 'players', 'season', 'player', 'game', 'time', 'shaq',\n",
       "       'year', 'would',\n",
       "       ...\n",
       "       'build', 'comment', 'concept', 'joke', 'knicks', 'charity', 'rajon',\n",
       "       'dellavedova', 'competitor', 'wingspans'],\n",
       "      dtype='object', length=1065)"
      ]
     },
     "execution_count": 44,
     "metadata": {},
     "output_type": "execute_result"
    }
   ],
   "source": [
    "df_100.index"
   ]
  },
  {
   "cell_type": "code",
   "execution_count": 134,
   "metadata": {
    "collapsed": false
   },
   "outputs": [
    {
     "data": {
      "image/png": "[encoded data removed]",
      "text/plain": [
       "<matplotlib.figure.Figure at 0x123652978>"
      ]
     },
     "metadata": {},
     "output_type": "display_data"
    }
   ],
   "source": [
    "fig, ax = plt.subplots(3, 1, figsize=(8,8))\n",
    "\n",
    "\n",
    "y1 = df_100.appearances[:10]\n",
    "y2 = df_50_100[:10]\n",
    "y3 = df_20_50[:10]\n",
    "\n",
    "y1.plot(kind = 'bar', ax = ax[0])\n",
    "ax[0].set_title('Top 10 words in titles with >100 comments')\n",
    "y2.plot(kind='bar', ax = ax[1] )\n",
    "ax[1].set_title('Top 10 words in titles with 50 to 100 comments')\n",
    "y3.plot(kind = 'bar', ax = ax[2])\n",
    "ax[2].set_title('Top 10 words in titles with 20 to 50 comments')\n",
    "\n",
    "\n",
    "fig.tight_layout()\n",
    "\n"
   ]
  },
  {
   "cell_type": "code",
   "execution_count": 235,
   "metadata": {
    "collapsed": false,
    "scrolled": true
   },
   "outputs": [
    {
     "name": "stdout",
     "output_type": "stream",
     "text": [
      "         appearances\n",
      "nba               49\n",
      "team              29\n",
      "players           20\n",
      "season            17\n",
      "player            17\n",
      "         appearances\n",
      "nba               42\n",
      "season            22\n",
      "team              19\n",
      "players           17\n",
      "player            17\n",
      "        appearances\n",
      "nba              51\n",
      "game             33\n",
      "would            28\n",
      "team             26\n",
      "season           25\n",
      "        appearances\n",
      "nba              95\n",
      "game             55\n",
      "vs               42\n",
      "season           28\n",
      "shaq             27\n",
      "        appearances\n",
      "nba             249\n",
      "game            122\n",
      "season           99\n",
      "team             97\n",
      "vs               81\n"
     ]
    }
   ],
   "source": [
    "# Check to make sure not getting the same words and appearances\n",
    "\n",
    "print(freq_of_words(more_than_100_comments)[:5])\n",
    "print(freq_of_words(fifty_to_100_comments)[:5])\n",
    "print(freq_of_words(twenty_to_fifty_comments)[:5])\n",
    "print(freq_of_words(less_than_twenty_comments)[:5])\n",
    "\n",
    "print(freq_of_words(df_titles_w_numbers)[:5])\n",
    "\n",
    "\n"
   ]
  },
  {
   "cell_type": "code",
   "execution_count": 237,
   "metadata": {
    "collapsed": false
   },
   "outputs": [],
   "source": [
    "###### Previous Code...turned it into function above \n",
    "\n",
    "# word_counter = []\n",
    "# for title in clean_title:\n",
    "#     words = title.split()\n",
    "#     for i in words:\n",
    "#         word_counter.append(i)\n",
    "            \n",
    "# # append to a new data frame\n",
    "# df_words = pd.DataFrame(word_counter)\n",
    "# df_words.columns = ['appearances']\n",
    "\n",
    "# # get counts of words and make a new dataframe with it\n",
    "# word_count = df_words['appearances'].value_counts()\n",
    "# word_count = pd.DataFrame(word_count)\n",
    "# word_count.head()"
   ]
  },
  {
   "cell_type": "code",
   "execution_count": 238,
   "metadata": {
    "collapsed": false,
    "scrolled": false
   },
   "outputs": [
    {
     "data": {
      "text/plain": [
       "3291"
      ]
     },
     "execution_count": 238,
     "metadata": {},
     "output_type": "execute_result"
    }
   ],
   "source": [
    "# total number of appearances of words\n",
    "total_num_words = word_count.sum()\n",
    "\n",
    "# number of unique words\n",
    "len(word_count)\n"
   ]
  },
  {
   "cell_type": "code",
   "execution_count": 28,
   "metadata": {
    "collapsed": false
   },
   "outputs": [],
   "source": [
    "# bin up by how many times a word appears\n",
    "x = [20, 50, 100, 200, 300]\n",
    "bins = {i:[] for i in x}\n",
    "\n",
    "for i in bins:\n",
    "    bins[i].append(word_count[word_count['appearances'] < i])\n",
    "\n"
   ]
  },
  {
   "cell_type": "code",
   "execution_count": 36,
   "metadata": {
    "collapsed": false
   },
   "outputs": [
    {
     "data": {
      "text/html": [
       "<div>\n",
       "<table border=\"1\" class=\"dataframe\">\n",
       "  <thead>\n",
       "    <tr style=\"text-align: right;\">\n",
       "      <th></th>\n",
       "      <th>appearances</th>\n",
       "    </tr>\n",
       "  </thead>\n",
       "  <tbody>\n",
       "    <tr>\n",
       "      <th>playoff</th>\n",
       "      <td>19</td>\n",
       "    </tr>\n",
       "    <tr>\n",
       "      <th>knicks</th>\n",
       "      <td>19</td>\n",
       "    </tr>\n",
       "    <tr>\n",
       "      <th>magic</th>\n",
       "      <td>19</td>\n",
       "    </tr>\n",
       "    <tr>\n",
       "      <th>russell</th>\n",
       "      <td>19</td>\n",
       "    </tr>\n",
       "    <tr>\n",
       "      <th>rockets</th>\n",
       "      <td>18</td>\n",
       "    </tr>\n",
       "    <tr>\n",
       "      <th>greatest</th>\n",
       "      <td>18</td>\n",
       "    </tr>\n",
       "    <tr>\n",
       "      <th>trade</th>\n",
       "      <td>18</td>\n",
       "    </tr>\n",
       "    <tr>\n",
       "      <th>get</th>\n",
       "      <td>17</td>\n",
       "    </tr>\n",
       "    <tr>\n",
       "      <th>raptors</th>\n",
       "      <td>17</td>\n",
       "    </tr>\n",
       "    <tr>\n",
       "      <th>today</th>\n",
       "      <td>17</td>\n",
       "    </tr>\n",
       "  </tbody>\n",
       "</table>\n",
       "</div>"
      ],
      "text/plain": [
       "          appearances\n",
       "playoff            19\n",
       "knicks             19\n",
       "magic              19\n",
       "russell            19\n",
       "rockets            18\n",
       "greatest           18\n",
       "trade              18\n",
       "get                17\n",
       "raptors            17\n",
       "today              17"
      ]
     },
     "execution_count": 36,
     "metadata": {},
     "output_type": "execute_result"
    }
   ],
   "source": [
    "less_than_20_times = word_count[word_count['appearances'] < 20.0]\n",
    "less_than_20_times[:10]"
   ]
  },
  {
   "cell_type": "code",
   "execution_count": 13,
   "metadata": {
    "collapsed": false
   },
   "outputs": [
    {
     "data": {
      "text/plain": [
       "<matplotlib.axes._subplots.AxesSubplot at 0x115c97860>"
      ]
     },
     "execution_count": 13,
     "metadata": {},
     "output_type": "execute_result"
    },
    {
     "data": {
      "image/png": "[encoded data removed]",
      "text/plain": [
       "<matplotlib.figure.Figure at 0x11ae44f28>"
      ]
     },
     "metadata": {},
     "output_type": "display_data"
    }
   ],
   "source": [
    "df_less_20 = pd.DataFrame(less_than_20_times)\n",
    "df_less_20[:50].plot(kind = 'bar', figsize = (12,4), rot = 45 )"
   ]
  },
  {
   "cell_type": "code",
   "execution_count": 51,
   "metadata": {
    "collapsed": false,
    "scrolled": true
   },
   "outputs": [
    {
     "data": {
      "text/plain": [
       "<matplotlib.axes._subplots.AxesSubplot at 0x11b9028d0>"
      ]
     },
     "execution_count": 51,
     "metadata": {},
     "output_type": "execute_result"
    },
    {
     "data": {
      "image/png": "[encoded data removed]",
      "text/plain": [
       "<matplotlib.figure.Figure at 0x11b8be8d0>"
      ]
     },
     "metadata": {},
     "output_type": "display_data"
    }
   ],
   "source": [
    "word_count[:50].plot(kind='bar', figsize = (12,4), rot = 45)"
   ]
  },
  {
   "cell_type": "code",
   "execution_count": null,
   "metadata": {
    "collapsed": true
   },
   "outputs": [],
   "source": []
  },
  {
   "cell_type": "code",
   "execution_count": null,
   "metadata": {
    "collapsed": true
   },
   "outputs": [],
   "source": []
  }
 ],
 "metadata": {
  "anaconda-cloud": {},
  "kernelspec": {
   "display_name": "Python [Root]",
   "language": "python",
   "name": "Python [Root]"
  },
  "language_info": {
   "codemirror_mode": {
    "name": "ipython",
    "version": 3
   },
   "file_extension": ".py",
   "mimetype": "text/x-python",
   "name": "python",
   "nbconvert_exporter": "python",
   "pygments_lexer": "ipython3",
   "version": "3.5.2"
  }
 },
 "nbformat": 4,
 "nbformat_minor": 0
}
