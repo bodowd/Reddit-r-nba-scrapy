{
 "cells": [
  {
   "cell_type": "code",
   "execution_count": 1,
   "metadata": {
    "collapsed": false
   },
   "outputs": [
    {
     "name": "stdout",
     "output_type": "stream",
     "text": [
      "3.5.2 |Anaconda 4.1.1 (64-bit)| (default, Jul  2 2016, 17:53:06) \n",
      "[GCC 4.4.7 20120313 (Red Hat 4.4.7-1)]\n"
     ]
    }
   ],
   "source": [
    "import sys\n",
    "print(sys.version)"
   ]
  },
  {
   "cell_type": "code",
   "execution_count": 88,
   "metadata": {
    "collapsed": false
   },
   "outputs": [
    {
     "data": {
      "text/html": [
       "<div>\n",
       "<table border=\"1\" class=\"dataframe\">\n",
       "  <thead>\n",
       "    <tr style=\"text-align: right;\">\n",
       "      <th></th>\n",
       "      <th>score_unvoted_numbers</th>\n",
       "      <th>author</th>\n",
       "      <th>number_of_comments</th>\n",
       "      <th>score_likes_numbers</th>\n",
       "      <th>time_submitted_ago</th>\n",
       "      <th>score_dislikes_full</th>\n",
       "      <th>score_unvoted_full</th>\n",
       "      <th>score_dislikes_numbers</th>\n",
       "      <th>title</th>\n",
       "      <th>score_likes_full</th>\n",
       "    </tr>\n",
       "  </thead>\n",
       "  <tbody>\n",
       "    <tr>\n",
       "      <th>0</th>\n",
       "      <td>33</td>\n",
       "      <td>nymusix</td>\n",
       "      <td>57 comments</td>\n",
       "      <td>34</td>\n",
       "      <td>7 hours ago</td>\n",
       "      <td>&lt;div class=\"score dislikes\"&gt;32&lt;/div&gt;</td>\n",
       "      <td>&lt;div class=\"score unvoted\"&gt;33&lt;/div&gt;</td>\n",
       "      <td>32</td>\n",
       "      <td>[The Comeback] The NBA and its fans are now th...</td>\n",
       "      <td>&lt;div class=\"score likes\"&gt;34&lt;/div&gt;</td>\n",
       "    </tr>\n",
       "    <tr>\n",
       "      <th>1</th>\n",
       "      <td>22</td>\n",
       "      <td>WizOfAwesSite</td>\n",
       "      <td>13 comments</td>\n",
       "      <td>23</td>\n",
       "      <td>5 hours ago</td>\n",
       "      <td>&lt;div class=\"score dislikes\"&gt;21&lt;/div&gt;</td>\n",
       "      <td>&lt;div class=\"score unvoted\"&gt;22&lt;/div&gt;</td>\n",
       "      <td>21</td>\n",
       "      <td>Josh Howard Calls It A Career, Moves To Coachi...</td>\n",
       "      <td>&lt;div class=\"score likes\"&gt;23&lt;/div&gt;</td>\n",
       "    </tr>\n",
       "    <tr>\n",
       "      <th>2</th>\n",
       "      <td>27</td>\n",
       "      <td>GettingLostInDaSauce</td>\n",
       "      <td>10 comments</td>\n",
       "      <td>28</td>\n",
       "      <td>6 hours ago</td>\n",
       "      <td>&lt;div class=\"score dislikes\"&gt;26&lt;/div&gt;</td>\n",
       "      <td>&lt;div class=\"score unvoted\"&gt;27&lt;/div&gt;</td>\n",
       "      <td>26</td>\n",
       "      <td>James Harden Full Highlights 2015.03.19 vs Nug...</td>\n",
       "      <td>&lt;div class=\"score likes\"&gt;28&lt;/div&gt;</td>\n",
       "    </tr>\n",
       "    <tr>\n",
       "      <th>3</th>\n",
       "      <td>3589</td>\n",
       "      <td>Athletics115</td>\n",
       "      <td>245 comments</td>\n",
       "      <td>3590</td>\n",
       "      <td>1 day ago</td>\n",
       "      <td>&lt;div class=\"score dislikes\"&gt;3588&lt;/div&gt;</td>\n",
       "      <td>&lt;div class=\"score unvoted\"&gt;3589&lt;/div&gt;</td>\n",
       "      <td>3588</td>\n",
       "      <td>Report: Rockets To Retire Yao Ming’s Jersey</td>\n",
       "      <td>&lt;div class=\"score likes\"&gt;3590&lt;/div&gt;</td>\n",
       "    </tr>\n",
       "    <tr>\n",
       "      <th>4</th>\n",
       "      <td>67</td>\n",
       "      <td>Dindinpark</td>\n",
       "      <td>36 comments</td>\n",
       "      <td>68</td>\n",
       "      <td>12 hours ago</td>\n",
       "      <td>&lt;div class=\"score dislikes\"&gt;66&lt;/div&gt;</td>\n",
       "      <td>&lt;div class=\"score unvoted\"&gt;67&lt;/div&gt;</td>\n",
       "      <td>66</td>\n",
       "      <td>Curry on Golfing with POTUS</td>\n",
       "      <td>&lt;div class=\"score likes\"&gt;68&lt;/div&gt;</td>\n",
       "    </tr>\n",
       "  </tbody>\n",
       "</table>\n",
       "</div>"
      ],
      "text/plain": [
       "  score_unvoted_numbers                author number_of_comments  \\\n",
       "0                    33               nymusix        57 comments   \n",
       "1                    22         WizOfAwesSite        13 comments   \n",
       "2                    27  GettingLostInDaSauce        10 comments   \n",
       "3                  3589          Athletics115       245 comments   \n",
       "4                    67            Dindinpark        36 comments   \n",
       "\n",
       "  score_likes_numbers time_submitted_ago  \\\n",
       "0                  34        7 hours ago   \n",
       "1                  23        5 hours ago   \n",
       "2                  28        6 hours ago   \n",
       "3                3590          1 day ago   \n",
       "4                  68       12 hours ago   \n",
       "\n",
       "                      score_dislikes_full  \\\n",
       "0    <div class=\"score dislikes\">32</div>   \n",
       "1    <div class=\"score dislikes\">21</div>   \n",
       "2    <div class=\"score dislikes\">26</div>   \n",
       "3  <div class=\"score dislikes\">3588</div>   \n",
       "4    <div class=\"score dislikes\">66</div>   \n",
       "\n",
       "                      score_unvoted_full score_dislikes_numbers  \\\n",
       "0    <div class=\"score unvoted\">33</div>                     32   \n",
       "1    <div class=\"score unvoted\">22</div>                     21   \n",
       "2    <div class=\"score unvoted\">27</div>                     26   \n",
       "3  <div class=\"score unvoted\">3589</div>                   3588   \n",
       "4    <div class=\"score unvoted\">67</div>                     66   \n",
       "\n",
       "                                               title  \\\n",
       "0  [The Comeback] The NBA and its fans are now th...   \n",
       "1  Josh Howard Calls It A Career, Moves To Coachi...   \n",
       "2  James Harden Full Highlights 2015.03.19 vs Nug...   \n",
       "3        Report: Rockets To Retire Yao Ming’s Jersey   \n",
       "4                        Curry on Golfing with POTUS   \n",
       "\n",
       "                      score_likes_full  \n",
       "0    <div class=\"score likes\">34</div>  \n",
       "1    <div class=\"score likes\">23</div>  \n",
       "2    <div class=\"score likes\">28</div>  \n",
       "3  <div class=\"score likes\">3590</div>  \n",
       "4    <div class=\"score likes\">68</div>  "
      ]
     },
     "execution_count": 88,
     "metadata": {},
     "output_type": "execute_result"
    }
   ],
   "source": [
    "import pandas as pd\n",
    "\n",
    "\n",
    "df = pd.read_csv('export.csv')\n",
    "df.head(5)"
   ]
  },
  {
   "cell_type": "code",
   "execution_count": 95,
   "metadata": {
    "collapsed": false
   },
   "outputs": [
    {
     "name": "stdout",
     "output_type": "stream",
     "text": [
      "comment\n",
      "comment\n",
      "comment\n",
      "comment\n",
      "comment\n",
      "comment\n",
      "comment\n",
      "comment\n",
      "comment\n",
      "comment\n",
      "578 comments\n",
      "587 comments\n",
      "620 comments\n",
      "622 comments\n",
      "826 comments\n",
      "914 comments\n",
      "920 comments\n",
      "1020 comments\n",
      "1375 comments\n",
      "1398 comments\n"
     ]
    }
   ],
   "source": [
    "'''Things I tried...didnt work'''\n",
    "# for entry in df.number_of_comments:\n",
    "#    df.number_of_comments.str.split(\" \", 1)\n",
    "\n",
    "# df.ix[:,2] refers to columns in df.  Same as df.number_of_comments\n",
    "# the [:3] after that refers to the rows within that column\n",
    "\n",
    "'''This worked'''\n",
    "# split number of comments so that I can remove comments...maybe faster to do in unix\n",
    "df.number_of_comments = df.number_of_comments.str.split(\" \", 1)\n",
    "\n",
    "df.head(5)\n",
    "\n"
   ]
  },
  {
   "cell_type": "code",
   "execution_count": 96,
   "metadata": {
    "collapsed": false
   },
   "outputs": [
    {
     "name": "stdout",
     "output_type": "stream",
     "text": [
      "comment\n",
      "comment\n",
      "comment\n",
      "comment\n",
      "comment\n",
      "comment\n",
      "comment\n",
      "comment\n",
      "comment\n",
      "comment\n",
      "578 comments\n",
      "587 comments\n",
      "620 comments\n",
      "622 comments\n",
      "826 comments\n",
      "914 comments\n",
      "920 comments\n",
      "1020 comments\n",
      "1375 comments\n",
      "1398 comments\n"
     ]
    }
   ],
   "source": [
    "# in bash ...\n",
    "!cut -d\",\" -f3 export.csv | sort -n | head -10\n",
    "\n",
    "!cut -d\",\" -f3 export.csv | sort -n | tail -10\n",
    "\n"
   ]
  },
  {
   "cell_type": "code",
   "execution_count": null,
   "metadata": {
    "collapsed": true
   },
   "outputs": [],
   "source": []
  }
 ],
 "metadata": {
  "anaconda-cloud": {},
  "kernelspec": {
   "display_name": "Python [Root]",
   "language": "python",
   "name": "Python [Root]"
  },
  "language_info": {
   "codemirror_mode": {
    "name": "ipython",
    "version": 3
   },
   "file_extension": ".py",
   "mimetype": "text/x-python",
   "name": "python",
   "nbconvert_exporter": "python",
   "pygments_lexer": "ipython3",
   "version": "3.5.2"
  }
 },
 "nbformat": 4,
 "nbformat_minor": 0
}
